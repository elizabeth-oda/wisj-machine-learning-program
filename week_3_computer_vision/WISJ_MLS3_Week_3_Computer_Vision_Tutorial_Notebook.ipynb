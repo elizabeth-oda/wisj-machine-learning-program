{
  "cells": [
    {
      "cell_type": "code",
      "execution_count": null,
      "metadata": {
        "id": "lSZBtJT0vhRD"
      },
      "outputs": [],
      "source": [
        "from google.colab import drive\n",
        "drive.mount(\"/content/drive\")"
      ]
    },
    {
      "cell_type": "code",
      "execution_count": null,
      "metadata": {
        "id": "1kwx95ez7Fwq"
      },
      "outputs": [],
      "source": [
        "%cd /content/drive/MyDrive/wisj_ml_summer_school/"
      ]
    },
    {
      "cell_type": "code",
      "execution_count": null,
      "metadata": {
        "id": "3Ot5X19KwxBv"
      },
      "outputs": [],
      "source": [
        "!pip install ultralytics"
      ]
    },
    {
      "cell_type": "code",
      "execution_count": null,
      "metadata": {
        "id": "Dy-G4dgBDjOF"
      },
      "outputs": [],
      "source": [
        "# Import libraries\n",
        "from ultralytics import YOLO\n",
        "from torchsummary import summary\n",
        "import glob"
      ]
    },
    {
      "cell_type": "code",
      "execution_count": null,
      "metadata": {
        "id": "-AyPoWEf0c4K"
      },
      "outputs": [],
      "source": [
        "# Load the pretrained model\n",
        "model = YOLO(\"yolov8n.pt\")\n",
        "\n",
        "# Train the model and save in runs/detect/train\n",
        "results = model.train(\n",
        "   data=\"custom_data.yaml\",\n",
        "   imgsz=640, # Image size\n",
        "   epochs=500, # Epochs\n",
        "   batch=4, # Batch size\n",
        "   exist_ok=True, # Overwrite run folder\n",
        "   hsv_h=0.0, # Hue shift range (color change); Typical Value: 0.015 – 0.1\n",
        "   hsv_s=0.0, # Saturation variation; Typical Value: 0.5 – 0.7\n",
        "   hsv_v=0.0, # Value (brightness) variation; Typical Value: 0.3 – 0.7\n",
        "   degrees=0, # Image rotation (± degrees); Typical Value: 0 – 10\n",
        "   translate=0.0, # Random shift along x/y axis;\tTypical Value: 0.1 – 0.2\n",
        "   scale=0.0, # Resize scale jitter;\tTypical Value: 0.5 – 1.5\n",
        "   shear=0.0, # Shear transform (tilt); Typical Value: 0 – 2.0\n",
        "   perspective=0.0, # Perspective distortion; Typical Value: 0 – 0.001\n",
        "   flipud=0.0, # Vertical flip probability; Typical Value: 0.0 – 0.5\n",
        "   fliplr=0.0, # Horizontal flip probability; Typical Value: 0.0 – 0.5\n",
        "   mosaic=0.0, # Enable Mosaic augmentation; Typical Value: 0.5 – 1.0\n",
        "   mixup=0.0, # Enable MixUp (image blending); Typical Value: 0.0 – 0.5\n",
        "   copy_paste=0.0 # Copy-paste objects from other images; Typical Value: 0.0 – 0.5\n",
        ")"
      ]
    },
    {
      "cell_type": "code",
      "source": [
        "# Load the model's best weights from training\n",
        "model = YOLO(\"./runs/detect/train/weights/best.pt\")\n",
        "\n",
        "# Get validation image files\n",
        "image_files = glob.glob(\"datasets/valid/images/*\")\n",
        "\n",
        "# Perform detection on the validation images and save in runs/detect/predict\n",
        "for i in range(len(image_files)):\n",
        "    model.predict(image_files[i], save=True)\n",
        "\n",
        "# Evaluate the model's performance on the validation set and save in runs/detect/val{n}\n",
        "results = model.val(name=\"val\")\n",
        "print(results)"
      ],
      "metadata": {
        "id": "jBI_JlNvPKKf"
      },
      "execution_count": null,
      "outputs": []
    },
    {
      "cell_type": "code",
      "execution_count": null,
      "metadata": {
        "id": "4Ai1CKe9nwY2"
      },
      "outputs": [],
      "source": [
        "# Get test image files\n",
        "image_files = glob.glob(\"dataset/test/images/*\")\n",
        "\n",
        "# Perform detection on the test images and save in runs/detect/predict\n",
        "for i in range(len(image_files)):\n",
        "    model.predict(image_files[i], save=True)"
      ]
    }
  ],
  "metadata": {
    "accelerator": "GPU",
    "colab": {
      "gpuType": "T4",
      "provenance": []
    },
    "kernelspec": {
      "display_name": "Python 3",
      "name": "python3"
    },
    "language_info": {
      "name": "python"
    }
  },
  "nbformat": 4,
  "nbformat_minor": 0
}